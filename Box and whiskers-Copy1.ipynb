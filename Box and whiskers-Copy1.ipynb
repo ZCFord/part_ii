{
 "cells": [
  {
   "cell_type": "code",
   "execution_count": 1,
   "metadata": {},
   "outputs": [],
   "source": [
    "import seaborn as sns"
   ]
  },
  {
   "cell_type": "code",
   "execution_count": 2,
   "metadata": {},
   "outputs": [],
   "source": [
    "import MDAnalysis\n",
    "import MDAnalysis.analysis.leaflet\n",
    "import pandas as pd"
   ]
  },
  {
   "cell_type": "code",
   "execution_count": 3,
   "metadata": {},
   "outputs": [],
   "source": [
    "import numpy as np\n",
    "import matplotlib\n",
    "import matplotlib.pyplot as plt"
   ]
  },
  {
   "cell_type": "code",
   "execution_count": 4,
   "metadata": {},
   "outputs": [],
   "source": [
    "def bilayer_thickness (A, B) : # finds the bilayer thickness from a file or universe input\n",
    "\tdownP = B.groups(0)\n",
    "\tupP = B.groups(1)\n",
    "\tupPxyz = upP.positions\n",
    "\tupPz = upPxyz[:,2] #selects z coordinates\n",
    "\tupPz_av = np.mean(upPz)\n",
    "\tdownPxyz = downP.positions\n",
    "\tdownPz = downPxyz[:,2] \n",
    "\tdownPz_av = np.mean(downPz)\n",
    "\tbilayer_thickness = downPz_av - upPz_av #difference in average upper and lower z coordinates\n",
    "\treturn (bilayer_thickness)\n",
    "\n",
    "def dif (A):\n",
    "    u = MDAnalysis.Universe(A)\n",
    "    protein = u.select_atoms('protein')\n",
    "    L = u.select_atoms('name P*')\n",
    "    proCOM = protein.center_of_mass()\n",
    "    memCOM = L.center_of_mass()\n",
    "    dif = memCOM[2] - proCOM[2]\n",
    "    return dif\n",
    "\n",
    "def meandif (A, B):\n",
    "    u = MDAnalysis.Universe(A, B)\n",
    "    protein = u.select_atoms('protein')\n",
    "    L = u.select_atoms('name P*')\n",
    "    meanrun = []\n",
    "    for ts in u.trajectory:\n",
    "        proCOM = protein.center_of_mass()\n",
    "        memCOM = L.center_of_mass()\n",
    "        meanrun.append(memCOM[2] - proCOM[2])\n",
    "    dif = np.mean(meanrun[25:75])\n",
    "    return dif"
   ]
  },
  {
   "cell_type": "code",
   "execution_count": 21,
   "metadata": {},
   "outputs": [],
   "source": [
    "u1 = MDAnalysis.Universe('../../DFPC/Backwards/md/1bar/analysis/mdord.pdb', '../../DFPC/Backwards/md/1bar/analysis/md-c.xtc')\n",
    "L1 = MDAnalysis.analysis.leaflet.LeafletFinder(u1, 'name P*')\n",
    "\n",
    "bilayer1 = []\n",
    "\n",
    "for ts in u1.trajectory :\n",
    "\tbilayer1.append(bilayer_thickness(u1, L1))\n",
    "\n",
    "mean1 = np.mean(bilayer1[25:75])\n"
   ]
  },
  {
   "cell_type": "code",
   "execution_count": 15,
   "metadata": {},
   "outputs": [
    {
     "data": {
      "text/plain": [
       "array([[ 6.13300018e+01,  3.38500023e+01,  3.12300014e+01],\n",
       "       [ 1.02400009e+02,  9.03000031e+01,  3.69599991e+01],\n",
       "       [ 7.73700027e+01,  6.77800064e+01,  3.56600037e+01],\n",
       "       [ 9.68600082e+01,  1.44400015e+01,  3.23600006e+01],\n",
       "       [ 6.88500061e+01,  4.24800034e+01,  3.45800018e+01],\n",
       "       [ 5.71100044e+01,  2.98200016e+01,  3.27800026e+01],\n",
       "       [ 1.08170006e+02,  3.17000008e+01,  3.69900017e+01],\n",
       "       [ 8.69000092e+01,  8.21699982e+01,  3.66300011e+01],\n",
       "       [ 3.22400017e+01,  1.15100002e+01,  3.56300011e+01],\n",
       "       [ 5.71599998e+01,  9.14000015e+01,  4.10499992e+01],\n",
       "       [ 1.02720001e+02,  3.41500015e+01,  3.50400009e+01],\n",
       "       [ 2.71100025e+01,  8.88400116e+01,  4.11500015e+01],\n",
       "       [ 7.38300018e+01,  7.81000061e+01,  4.21100006e+01],\n",
       "       [ 1.20800009e+01,  9.20000076e+01,  3.15699997e+01],\n",
       "       [ 1.93100014e+01,  3.81500015e+01,  3.88600006e+01],\n",
       "       [ 5.45999985e+01,  7.98600082e+01,  4.30299988e+01],\n",
       "       [ 9.04000092e+00,  1.90800018e+01,  3.43500023e+01],\n",
       "       [ 3.69000006e+00,  7.54700012e+01,  3.63800011e+01],\n",
       "       [ 3.15000033e+00,  9.92800064e+01,  3.60000000e+01],\n",
       "       [ 6.09700012e+01,  9.67500000e+01,  3.94300003e+01],\n",
       "       [ 3.83300018e+01,  7.48800049e+01,  3.63600006e+01],\n",
       "       [ 9.68100052e+01,  7.21700058e+01,  3.80000000e+01],\n",
       "       [ 7.24000015e+01,  9.06100082e+01,  3.79300003e+01],\n",
       "       [ 2.90000010e+00,  5.60000038e+01,  3.70299988e+01],\n",
       "       [ 1.43200006e+01,  1.05320007e+02,  3.36399994e+01],\n",
       "       [ 8.27100067e+01,  2.94500008e+01,  3.32700005e+01],\n",
       "       [ 7.88900070e+01,  4.42700005e+01,  3.37600021e+01],\n",
       "       [ 4.80400047e+01,  9.87600021e+01,  3.95500031e+01],\n",
       "       [ 3.12800026e+01,  9.94500046e+01,  3.86800041e+01],\n",
       "       [ 9.51200027e+01,  1.04670013e+02,  3.51600037e+01],\n",
       "       [ 8.97600098e+01,  3.11400013e+01,  3.47100029e+01],\n",
       "       [ 7.96100006e+01,  1.22900009e+01,  3.14500027e+01],\n",
       "       [ 4.94500008e+01,  3.45400009e+01,  3.55600014e+01],\n",
       "       [ 9.62200089e+01,  3.14500027e+01,  3.45400009e+01],\n",
       "       [ 1.05390007e+02,  4.47800026e+01,  3.39900017e+01],\n",
       "       [ 8.16500015e+01,  8.75200043e+01,  4.01900024e+01],\n",
       "       [ 5.37500038e+01,  5.16000032e+00,  3.61399994e+01],\n",
       "       [ 3.06300011e+01,  7.88200073e+01,  4.01500015e+01],\n",
       "       [ 2.39200020e+01,  9.43000031e+00,  3.81600037e+01],\n",
       "       [ 7.55500031e+01,  9.05000019e+00,  3.22200012e+01],\n",
       "       [ 3.12000008e+01,  3.51300011e+01,  3.91800003e+01],\n",
       "       [ 1.08919998e+02,  8.81000061e+01,  3.68899994e+01],\n",
       "       [ 6.60600052e+01,  3.61100006e+01,  3.42000008e+01],\n",
       "       [ 1.28100004e+01,  7.99500046e+01,  3.54400024e+01],\n",
       "       [ 1.05000008e+02,  7.89800034e+01,  3.55800018e+01],\n",
       "       [ 1.07740005e+02,  5.25400009e+01,  3.85699997e+01],\n",
       "       [ 8.84800034e+01,  4.58300018e+01,  3.23500023e+01],\n",
       "       [ 5.23000002e+00,  6.05999994e+00,  3.31100006e+01],\n",
       "       [ 5.09700012e+01, -5.00000000e-01,  3.60200043e+01],\n",
       "       [ 3.68800011e+01,  1.93900013e+01,  3.47500000e+01],\n",
       "       [ 7.53700027e+01,  2.12700005e+01,  3.17100029e+01],\n",
       "       [ 3.77900009e+01,  5.62000036e+00,  3.82900009e+01],\n",
       "       [ 1.06760010e+02,  6.05300064e+01,  3.73500023e+01],\n",
       "       [ 1.05750008e+02,  1.04360008e+02,  3.63800011e+01],\n",
       "       [ 2.94000015e+01,  4.21300049e+01,  4.14800034e+01],\n",
       "       [ 7.57800064e+01,  3.27300034e+01,  3.29799995e+01],\n",
       "       [ 4.60100021e+01,  1.79600010e+01,  3.38900032e+01],\n",
       "       [ 3.72500000e+01,  8.84600067e+01,  4.27300034e+01],\n",
       "       [ 7.54400024e+01,  8.70000064e-01,  3.55800018e+01],\n",
       "       [ 7.39000034e+00,  1.10900011e+01,  3.43100014e+01],\n",
       "       [ 4.33300018e+01,  6.70500031e+01,  3.66000023e+01],\n",
       "       [ 6.90900040e+01, -4.28999996e+00,  3.62500038e+01],\n",
       "       [ 4.59700012e+01,  1.05530006e+02,  3.68899994e+01],\n",
       "       [ 5.99100037e+01, -4.50000018e-01,  4.07099991e+01],\n",
       "       [ 1.36000004e+01,  8.36000061e+00,  3.71599998e+01],\n",
       "       [ 3.79500008e+01,  8.02000046e+01,  3.97900009e+01],\n",
       "       [ 9.84300079e+01,  7.83600006e+01,  3.61800041e+01],\n",
       "       [ 6.85700073e+01,  7.74000015e+01,  4.50000000e+01],\n",
       "       [ 9.29800034e+01,  9.91000061e+01,  3.47299995e+01],\n",
       "       [ 9.30800018e+01,  6.04800034e+01,  3.44700012e+01],\n",
       "       [ 4.47600021e+01,  5.15000057e+00,  3.46900024e+01],\n",
       "       [ 2.10000019e+01,  4.43600044e+01,  3.65200005e+01],\n",
       "       [ 4.62400017e+01,  8.52300110e+01,  4.11800003e+01],\n",
       "       [ 1.53300009e+01,  8.84400101e+01,  3.68400040e+01],\n",
       "       [ 6.24000025e+00,  4.50900040e+01,  3.95400009e+01],\n",
       "       [ 2.52200012e+01,  5.48300018e+01,  3.50000038e+01],\n",
       "       [ 8.86000061e+01,  8.77800064e+01,  3.62100029e+01],\n",
       "       [ 6.72300034e+01,  8.34000015e+00,  3.70600014e+01],\n",
       "       [ 4.10200043e+01,  3.23100014e+01,  3.76400032e+01],\n",
       "       [ 7.95300064e+01,  9.75800018e+01,  3.64000015e+01],\n",
       "       [ 4.66399994e+01,  9.20700073e+01,  4.08100052e+01],\n",
       "       [ 1.85300007e+01,  8.20900040e+01,  3.50900002e+01],\n",
       "       [ 8.56000061e+01,  5.85200043e+01,  3.02700024e+01],\n",
       "       [ 1.11200008e+01,  9.98700027e+01,  3.45000000e+01],\n",
       "       [ 9.90100021e+01,  7.53999996e+00,  3.36500015e+01],\n",
       "       [ 4.12400017e+01,  2.22900009e+01,  3.31300011e+01],\n",
       "       [ 6.47900009e+01,  1.01370003e+02,  3.89200020e+01],\n",
       "       [ 1.26500015e+01,  4.86900024e+01,  3.53800011e+01],\n",
       "       [ 8.56800079e+01,  6.58700027e+01,  3.51200027e+01],\n",
       "       [ 9.38900070e+01,  6.74199982e+01,  3.97800026e+01],\n",
       "       [ 7.43300018e+01,  4.00600014e+01,  3.40300026e+01],\n",
       "       [ 1.83900013e+01,  1.22200003e+01,  3.73899994e+01],\n",
       "       [ 4.50800018e+01,  7.87300034e+01,  4.09899979e+01],\n",
       "       [ 2.16600018e+01,  3.03199997e+01,  3.66000023e+01],\n",
       "       [ 1.09170006e+02,  7.20500031e+01,  3.50600014e+01],\n",
       "       [ 2.50300007e+01,  6.96100006e+01,  3.60400009e+01],\n",
       "       [ 1.38200006e+01,  3.55200043e+01,  3.64600029e+01],\n",
       "       [ 7.31700058e+01,  7.05500031e+01,  4.19500008e+01],\n",
       "       [ 8.64700012e+01,  7.11000013e+00,  3.21300011e+01],\n",
       "       [ 1.24499998e+01,  2.34099998e+01,  3.66200027e+01],\n",
       "       [ 6.89000034e+00,  5.18800011e+01,  3.41400032e+01],\n",
       "       [ 1.05470009e+02,  2.33400002e+01,  3.31900024e+01],\n",
       "       [ 1.09360008e+02,  4.84099998e+01,  3.57099991e+01],\n",
       "       [ 4.68199997e+01,  2.42800026e+01,  3.55400009e+01],\n",
       "       [ 6.77400055e+01,  7.13200073e+01,  4.01200027e+01],\n",
       "       [ 3.27800026e+01,  9.35000000e+01,  4.23600006e+01],\n",
       "       [ 3.24400024e+01,  4.66900024e+01,  3.53800011e+01],\n",
       "       [ 3.95800018e+01, -1.39000010e+00,  3.64800034e+01],\n",
       "       [ 1.03850006e+02,  2.23000002e+00,  3.47800026e+01],\n",
       "       [ 7.72000027e+00,  6.61800079e+01,  3.55900040e+01],\n",
       "       [ 5.33499985e+01,  9.67200089e+01,  4.07000008e+01],\n",
       "       [ 2.55000019e+01,  7.95200043e+01,  4.22500038e+01],\n",
       "       [ 6.19700050e+01,  5.17000008e+00,  3.69500008e+01],\n",
       "       [ 7.25000076e+01,  9.88700027e+01,  3.73500023e+01],\n",
       "       [ 2.13800011e+01,  9.87500000e+01,  3.48899994e+01],\n",
       "       [ 6.48400040e+01,  2.07100010e+01,  3.17400017e+01],\n",
       "       [ 5.70800018e+01,  2.22700005e+01,  3.16500015e+01],\n",
       "       [ 8.37700043e+01,  2.25200005e+01,  3.11300011e+01],\n",
       "       [ 1.01699997e+02,  5.99300041e+01,  3.39500008e+01],\n",
       "       [ 1.12900009e+01,  6.25600052e+01,  3.83900032e+01],\n",
       "       [ 8.48000050e+00,  1.08380005e+02,  3.20299988e+01],\n",
       "       [ 5.54600067e+01,  4.17300034e+01,  3.61300011e+01],\n",
       "       [ 8.07900085e+01,  7.21300049e+01,  3.94500008e+01],\n",
       "       [ 2.24700012e+01,  9.10000000e+01,  4.01000023e+01],\n",
       "       [ 1.02029999e+02,  4.03400040e+01,  3.05500011e+01],\n",
       "       [ 5.38600006e+01,  1.36200008e+01,  3.33800011e+01],\n",
       "       [ 1.02570007e+02,  1.18600006e+01,  3.13000011e+01],\n",
       "       [ 3.27800026e+01,  2.77300034e+01,  3.49599991e+01],\n",
       "       [ 9.11600037e+01, -6.00000024e-02,  3.36300011e+01],\n",
       "       [ 2.40500031e+01,  3.50000024e+00,  3.78100014e+01],\n",
       "       [ 2.78100014e+01,  2.58300018e+01,  3.76300011e+01],\n",
       "       [ 7.61900024e+01,  8.63800049e+01,  3.88700027e+01],\n",
       "       [-7.00000003e-02,  1.17800007e+01,  2.94900017e+01],\n",
       "       [ 8.76699982e+01,  1.33800011e+01,  3.18400021e+01],\n",
       "       [ 9.68500061e+01,  4.99000015e+01,  3.14300003e+01],\n",
       "       [ 8.69200058e+01,  1.08250008e+02,  3.65600014e+01],\n",
       "       [ 6.01000023e+00,  8.58300018e+01,  3.78700027e+01],\n",
       "       [ 1.07380005e+02,  9.67800064e+01,  3.68600006e+01],\n",
       "       [ 1.84500008e+01,  6.04400024e+01,  3.58900032e+01],\n",
       "       [ 6.96500015e+01,  2.30900002e+01,  3.13400002e+01],\n",
       "       [ 9.84900055e+01,  2.27700024e+01,  3.16600018e+01],\n",
       "       [ 6.91500015e+01,  2.92800026e+01,  3.35699997e+01],\n",
       "       [ 3.32400017e+01,  1.05730011e+02,  3.66500015e+01],\n",
       "       [ 1.61500015e+01,  7.20600052e+01,  3.80699997e+01],\n",
       "       [ 6.60299988e+01,  9.25600052e+01,  3.89800034e+01],\n",
       "       [ 8.20500031e+01,  9.26200027e+01,  3.84500046e+01],\n",
       "       [ 6.67000046e+01,  8.57200012e+01,  4.07900009e+01],\n",
       "       [ 9.75000000e+00,  7.12300034e+01,  3.50000038e+01],\n",
       "       [ 2.86999989e+00,  1.86300011e+01,  3.28300018e+01],\n",
       "       [ 6.15100060e+01,  8.30800018e+01,  4.40500031e+01],\n",
       "       [ 5.47000027e+00,  3.92600021e+01,  3.39400024e+01],\n",
       "       [ 3.78100014e+01,  1.35500002e+01,  3.19500008e+01],\n",
       "       [ 3.76300011e+01,  3.88400040e+01,  3.82000008e+01],\n",
       "       [ 1.05600006e+02,  6.66700058e+01,  3.68400040e+01],\n",
       "       [ 8.08200073e+01,  3.54500008e+01,  3.26200027e+01],\n",
       "       [ 3.78000021e+00,  3.06600018e+01,  3.42500000e+01],\n",
       "       [ 9.25100021e+01,  2.00000000e+01,  3.29099998e+01]], dtype=float32)"
      ]
     },
     "execution_count": 15,
     "metadata": {},
     "output_type": "execute_result"
    }
   ],
   "source": [
    "test.positions"
   ]
  },
  {
   "cell_type": "code",
   "execution_count": 5,
   "metadata": {},
   "outputs": [],
   "source": [
    "# BILAYER THICKNESS\n",
    "\n",
    "##### DFPC\n",
    "### 1b\n",
    "\n",
    "u1 = MDAnalysis.Universe('../../DFPC/Backwards/md/1bar/analysis/mdord.pdb', '../../DFPC/Backwards/md/1bar/analysis/md-c.xtc')\n",
    "L1 = MDAnalysis.analysis.leaflet.LeafletFinder(u1, 'name P*')\n",
    "\n",
    "bilayer1 = []\n",
    "\n",
    "for ts in u1.trajectory :\n",
    "\tbilayer1.append(bilayer_thickness(u1, L1))\n",
    "\n",
    "mean1 = np.mean(bilayer1[25:75])\n",
    "\n",
    "u2 = MDAnalysis.Universe('../../DFPC/Backwards/md/1bar/repeat/analysis/mdord.pdb', '../../DFPC/Backwards/md/1bar/repeat/analysis/md-c.xtc')\n",
    "L2 = MDAnalysis.analysis.leaflet.LeafletFinder(u2, 'name P*')\n",
    "\n",
    "bilayer2 = []\n",
    "\n",
    "for ts in u2.trajectory :\n",
    "\tbilayer2.append(bilayer_thickness(u2, L2))\n",
    "\n",
    "mean2 = np.mean(bilayer2[25:75])\n",
    "\n",
    "av1 = (mean1+mean2)/2\n",
    "\n",
    "### -30b\n",
    "\n",
    "u3 = MDAnalysis.Universe('../../DFPC/Backwards/md/30bar/repeat1/analysis/mdord.pdb', '../../DFPC/Backwards/md/30bar/repeat1/analysis/md-c.xtc')\n",
    "L3 = MDAnalysis.analysis.leaflet.LeafletFinder(u3, 'name P*')\n",
    "\n",
    "bilayer3 = []\n",
    "\n",
    "for ts in u3.trajectory :\n",
    "\tbilayer3.append(bilayer_thickness(u3, L3))\n",
    "\n",
    "mean3 = np.mean(bilayer3[25:75])\n",
    "\n",
    "u4 = MDAnalysis.Universe('../../DFPC/Backwards/md/30bar/repeat2/analysis/mdord.pdb', '../../DFPC/Backwards/md/30bar/repeat2/analysis/md-c.xtc')\n",
    "L4 = MDAnalysis.analysis.leaflet.LeafletFinder(u4, 'name P*')\n",
    "\n",
    "bilayer4 = []\n",
    "\n",
    "for ts in u4.trajectory :\n",
    "\tbilayer4.append(bilayer_thickness(u4, L4))\n",
    "\n",
    "mean4 = np.mean(bilayer4[25:75])\n",
    "\n",
    "av2 = (mean3+mean4)/2\n",
    "\n",
    "### -40b\n",
    "\n",
    "bilayer5 = []\n",
    "\n",
    "u5 = MDAnalysis.Universe('../../DFPC/Backwards/md/40bar/repeat1/analysis/mdord.pdb', '../../DFPC/Backwards/md/40bar/repeat1/analysis/md-c.xtc')\n",
    "L5 = MDAnalysis.analysis.leaflet.LeafletFinder(u5, 'name P*') #selects P atoms and puts in two leaflet\n",
    "\n",
    "for ts in u5.trajectory :\n",
    "\tbilayer5.append(bilayer_thickness(u5, L5))\n",
    "\n",
    "mean5 = np.mean(bilayer5[25:75])\n",
    "\n",
    "bilayer6 = []\n",
    "\n",
    "u6 = MDAnalysis.Universe('../../DFPC/Backwards/md/40bar/repeat2/analysis/mdord.pdb', '../../DFPC/Backwards/md/40bar/repeat2/analysis/md-c.xtc')\n",
    "L6 = MDAnalysis.analysis.leaflet.LeafletFinder(u6, 'name P*') #selects P atoms and puts in two leaflet\n",
    "\n",
    "for ts in u6.trajectory :\n",
    "\tbilayer6.append(bilayer_thickness(u6, L6))\n",
    "\n",
    "mean6 = np.mean(bilayer6[25:75])\n",
    "\n",
    "bilayer7 = []\n",
    "\n",
    "u7 = MDAnalysis.Universe('../../DFPC/Backwards/md/40bar/repeat3/analysis/mdord.pdb', '../../DFPC/Backwards/md/40bar/repeat3/analysis/md-c.xtc')\n",
    "L7 = MDAnalysis.analysis.leaflet.LeafletFinder(u7, 'name P*') #selects P atoms and puts in two leaflet\n",
    "\n",
    "for ts in u7.trajectory :\n",
    "\tbilayer7.append(bilayer_thickness(u7, L7))\n",
    "\n",
    "mean7 = np.mean(bilayer7[25:75])\n",
    "\n",
    "av3 = (mean5 + mean6 + mean7)/3\n",
    "\n",
    "##### DOPC\n",
    "### 1b\n",
    "\n",
    "u8 = MDAnalysis.Universe('../../DOPC/Backwards/md/1bar/analysis/mdord.pdb', '../../DOPC/Backwards/md/1bar/analysis/md-c.xtc')\n",
    "L8 = MDAnalysis.analysis.leaflet.LeafletFinder(u8, 'name P*')\n",
    "\n",
    "bilayer8 = []\n",
    "\n",
    "for ts in u8.trajectory :\n",
    "\tbilayer8.append(bilayer_thickness(u8, L8))\n",
    "\n",
    "mean8 = np.mean(bilayer8[25:75])\n",
    "\n",
    "u9 = MDAnalysis.Universe('../../DOPC/Backwards/md/1bar/repeat/analysis/mdord.pdb', '../../DOPC/Backwards/md/1bar/repeat/analysis/md-c.xtc')\n",
    "L9 = MDAnalysis.analysis.leaflet.LeafletFinder(u9, 'name P*')\n",
    "\n",
    "bilayer9 = []\n",
    "\n",
    "for ts in u9.trajectory :\n",
    "\tbilayer9.append(bilayer_thickness(u9, L9))\n",
    "\n",
    "mean9 = np.mean(bilayer9[25:75])\n",
    "\n",
    "av4 = (mean8+mean9)/2\n",
    "\n",
    "### -30b\n",
    "\n",
    "u10 = MDAnalysis.Universe('../../DOPC/Backwards/md/30bar/repeat1/analysis/mdord.pdb', '../../DOPC/Backwards/md/30bar/repeat1/analysis/md-c.xtc')\n",
    "L10 = MDAnalysis.analysis.leaflet.LeafletFinder(u10, 'name P*')\n",
    "\n",
    "bilayer10 = []\n",
    "\n",
    "for ts in u10.trajectory :\n",
    "\tbilayer10.append(bilayer_thickness(u10, L10))\n",
    "\n",
    "mean10 = np.mean(bilayer10[25:75])\n",
    "\n",
    "u11 = MDAnalysis.Universe('../../DOPC/Backwards/md/30bar/repeat2/analysis/mdord.pdb', '../../DOPC/Backwards/md/30bar/repeat2/analysis/md-c.xtc')\n",
    "L11 = MDAnalysis.analysis.leaflet.LeafletFinder(u11, 'name P*')\n",
    "\n",
    "bilayer11 = []\n",
    "\n",
    "for ts in u11.trajectory :\n",
    "\tbilayer11.append(bilayer_thickness(u11, L11))\n",
    "\n",
    "mean11 = np.mean(bilayer11[25:75])\n",
    "\n",
    "av5 = (mean10+mean11)/2\n",
    "\n",
    "### -40b\n",
    "\n",
    "bilayer12 = []\n",
    "\n",
    "u12 = MDAnalysis.Universe('../../DOPC/Backwards/md/40bar/repeat1/analysis/mdord.pdb', '../../DOPC/Backwards/md/40bar/repeat1/analysis/md-c.xtc')\n",
    "L12 = MDAnalysis.analysis.leaflet.LeafletFinder(u12, 'name P*') #selects P atoms and puts in two leaflet\n",
    "\n",
    "for ts in u12.trajectory :\n",
    "\tbilayer12.append(bilayer_thickness(u12, L12))\n",
    "\n",
    "mean12 = np.mean(bilayer12[25:75])\n",
    "\n",
    "bilayer13 = []\n",
    "\n",
    "u13 = MDAnalysis.Universe('../../DOPC/Backwards/md/40bar/repeat2/analysis/mdord.pdb', '../../DOPC/Backwards/md/40bar/repeat2/analysis/md-c.xtc')\n",
    "L13 = MDAnalysis.analysis.leaflet.LeafletFinder(u13, 'name P*') #selects P atoms and puts in two leaflet\n",
    "\n",
    "for ts in u13.trajectory :\n",
    "\tbilayer13.append(bilayer_thickness(u13, L13))\n",
    "\n",
    "mean13 = np.mean(bilayer13[25:75])\n",
    "\n",
    "bilayer14 = []\n",
    "\n",
    "u14 = MDAnalysis.Universe('../../DOPC/Backwards/md/40bar/repeat3/analysis/mdord.pdb', '../../DOPC/Backwards/md/40bar/repeat3/analysis/md-c.xtc')\n",
    "L14 = MDAnalysis.analysis.leaflet.LeafletFinder(u14, 'name P*') #selects P atoms and puts in two leaflet\n",
    "\n",
    "for ts in u14.trajectory :\n",
    "\tbilayer14.append(bilayer_thickness(u14, L14))\n",
    "\n",
    "mean14 = np.mean(bilayer14[25:75])\n",
    "\n",
    "av6 = (mean12 + mean13 + mean14)/3\n",
    "\n",
    "### -50b\n",
    "\n",
    "u15 = MDAnalysis.Universe('../../DOPC/Backwards/md/50bar/repeat1/analysis/mdord.pdb', '../../DOPC/Backwards/md/50bar/repeat1/analysis/md-c.xtc')\n",
    "L15 = MDAnalysis.analysis.leaflet.LeafletFinder(u15, 'name P*')\n",
    "\n",
    "bilayer15 = []\n",
    "\n",
    "for ts in u15.trajectory :\n",
    "\tbilayer15.append(bilayer_thickness(u15, L15))\n",
    "\n",
    "mean15 = np.mean(bilayer15[25:75])\n",
    "\n",
    "u16 = MDAnalysis.Universe('../../DOPC/Backwards/md/50bar/repeat2/analysis/mdord.pdb', '../../DOPC/Backwards/md/50bar/repeat2/analysis/md-c.xtc')\n",
    "L16 = MDAnalysis.analysis.leaflet.LeafletFinder(u16, 'name P*')\n",
    "\n",
    "bilayer16 = []\n",
    "\n",
    "for ts in u16.trajectory :\n",
    "\tbilayer16.append(bilayer_thickness(u16, L16))\n",
    "\n",
    "mean16 = np.mean(bilayer16[25:75])\n",
    "\n",
    "av7 = (mean15+mean16)/2\n",
    "\n",
    "##### DVPC\n",
    "### 1b\n",
    "\n",
    "u17 = MDAnalysis.Universe('../../DVPC/Backwards/md/1bar/analysis/mdord.pdb', '../../DVPC/Backwards/md/1bar/analysis/md-c.xtc')\n",
    "L17 = MDAnalysis.analysis.leaflet.LeafletFinder(u17, 'name P*')\n",
    "\n",
    "bilayer17 = []\n",
    "\n",
    "for ts in u17.trajectory :\n",
    "\tbilayer17.append(bilayer_thickness(u17, L17))\n",
    "\n",
    "mean17 = np.mean(bilayer17[25:75])\n",
    "\n",
    "u18 = MDAnalysis.Universe('../../DVPC/Backwards/md/1bar/repeat/analysis/mdord.pdb', '../../DVPC/Backwards/md/1bar/repeat/analysis/md-c.xtc')\n",
    "L18 = MDAnalysis.analysis.leaflet.LeafletFinder(u18, 'name P*')\n",
    "\n",
    "bilayer18 = []\n",
    "\n",
    "for ts in u18.trajectory :\n",
    "\tbilayer18.append(bilayer_thickness(u18, L18))\n",
    "\n",
    "mean18 = np.mean(bilayer18[25:75])\n",
    "\n",
    "av8 = (mean17+mean18)/2\n",
    "\n",
    "### -40b\n",
    "\n",
    "bilayer19 = []\n",
    "\n",
    "u19 = MDAnalysis.Universe('../../DVPC/Backwards/md/40bar/repeat1/analysis/mdord.pdb', '../../DVPC/Backwards/md/40bar/repeat1/analysis/md-c.xtc')\n",
    "L19 = MDAnalysis.analysis.leaflet.LeafletFinder(u19, 'name P*') #selects P atoms and puts in two leaflet\n",
    "\n",
    "for ts in u19.trajectory :\n",
    "\tbilayer19.append(bilayer_thickness(u19, L19))\n",
    "\n",
    "mean19 = np.mean(bilayer19[25:75])\n",
    "\n",
    "bilayer20 = []\n",
    "\n",
    "u20 = MDAnalysis.Universe('../../DVPC/Backwards/md/40bar/repeat2/analysis/mdord.pdb', '../../DVPC/Backwards/md/40bar/repeat2/analysis/md-c.xtc')\n",
    "L20 = MDAnalysis.analysis.leaflet.LeafletFinder(u20, 'name P*') #selects P atoms and puts in two leaflet\n",
    "\n",
    "for ts in u20.trajectory :\n",
    "\tbilayer20.append(bilayer_thickness(u20, L20))\n",
    "\n",
    "mean20 = np.mean(bilayer20[25:75])\n",
    "\n",
    "bilayer21 = []\n",
    "\n",
    "u21 = MDAnalysis.Universe('../../DVPC/Backwards/md/40bar/repeat3/analysis/mdord.pdb', '../../DVPC/Backwards/md/40bar/repeat3/analysis/md-c.xtc')\n",
    "L21 = MDAnalysis.analysis.leaflet.LeafletFinder(u21, 'name P*') #selects P atoms and puts in two leaflet\n",
    "\n",
    "for ts in u21.trajectory :\n",
    "\tbilayer21.append(bilayer_thickness(u21, L21))\n",
    "\n",
    "mean21 = np.mean(bilayer21[25:75])\n",
    "\n",
    "av9 = (mean19 + mean20 + mean21)/3\n",
    "\n",
    "### -50b\n",
    "\n",
    "u22 = MDAnalysis.Universe('../../DVPC/Backwards/md/50bar/repeat1/analysis/mdord.pdb', '../../DVPC/Backwards/md/50bar/repeat1/analysis/md-c.xtc')\n",
    "L22 = MDAnalysis.analysis.leaflet.LeafletFinder(u22, 'name P*')\n",
    "\n",
    "bilayer22 = []\n",
    "\n",
    "for ts in u22.trajectory :\n",
    "\tbilayer22.append(bilayer_thickness(u22, L22))\n",
    "\n",
    "mean22 = np.mean(bilayer22[25:75])\n",
    "\n",
    "u23 = MDAnalysis.Universe('../../DVPC/Backwards/md/50bar/repeat2/analysis/mdord.pdb', '../../DVPC/Backwards/md/50bar/repeat2/analysis/md-c.xtc')\n",
    "L23 = MDAnalysis.analysis.leaflet.LeafletFinder(u23, 'name P*')\n",
    "\n",
    "bilayer23 = []\n",
    "\n",
    "for ts in u23.trajectory :\n",
    "\tbilayer23.append(bilayer_thickness(u23, L23))\n",
    "\n",
    "mean23 = np.mean(bilayer23[25:75])\n",
    "\n",
    "av10 = (mean22+mean23)/2\n",
    "\n",
    "### -60b\n",
    "\n",
    "u24 = MDAnalysis.Universe('../../DVPC/Backwards/md/60bar/repeat1/analysis/mdord.pdb', '../../DVPC/Backwards/md/60bar/repeat1/analysis/md-c.xtc')\n",
    "L24 = MDAnalysis.analysis.leaflet.LeafletFinder(u24, 'name P*')\n",
    "\n",
    "bilayer24 = []\n",
    "\n",
    "for ts in u24.trajectory :\n",
    "\tbilayer24.append(bilayer_thickness(u24, L24))\n",
    "\n",
    "mean24 = np.mean(bilayer24[25:75])\n",
    "\n",
    "u25 = MDAnalysis.Universe('../../DVPC/Backwards/md/60bar/repeat2/analysis/mdord.pdb', '../../DVPC/Backwards/md/60bar/repeat2/analysis/md-c.xtc')\n",
    "L25 = MDAnalysis.analysis.leaflet.LeafletFinder(u25, 'name P*')\n",
    "\n",
    "bilayer25 = []\n",
    "\n",
    "for ts in u25.trajectory :\n",
    "\tbilayer25.append(bilayer_thickness(u25, L25))\n",
    "\n",
    "mean25 = np.mean(bilayer25[25:75])\n",
    "\n",
    "av11 = (mean24+mean25)/2"
   ]
  },
  {
   "cell_type": "code",
   "execution_count": 6,
   "metadata": {},
   "outputs": [],
   "source": [
    "dfpc = []\n",
    "dfpc.append([mean1, mean2, mean3, mean4, mean5, mean6, mean7])"
   ]
  },
  {
   "cell_type": "code",
   "execution_count": 112,
   "metadata": {},
   "outputs": [
    {
     "data": {
      "text/plain": [
       "[[35.119293, 35.241188, 31.146101, 31.278418, 29.725508, 29.884663, 29.922606]]"
      ]
     },
     "execution_count": 112,
     "metadata": {},
     "output_type": "execute_result"
    }
   ],
   "source": [
    "dfpc"
   ]
  },
  {
   "cell_type": "code",
   "execution_count": 7,
   "metadata": {},
   "outputs": [],
   "source": [
    "dopc = []\n",
    "dopc.append([mean8, mean9, mean10, mean11, mean12, mean13, mean14, mean15, mean16])"
   ]
  },
  {
   "cell_type": "code",
   "execution_count": 8,
   "metadata": {},
   "outputs": [],
   "source": [
    "dvpc = []\n",
    "dvpc.append([mean17, mean18, mean19, mean20, mean21, mean22, mean23, mean24, mean25])"
   ]
  },
  {
   "cell_type": "code",
   "execution_count": 9,
   "metadata": {},
   "outputs": [
    {
     "ename": "ValueError",
     "evalue": "all the input array dimensions except for the concatenation axis must match exactly",
     "output_type": "error",
     "traceback": [
      "\u001b[0;31m---------------------------------------------------------------------------\u001b[0m",
      "\u001b[0;31mValueError\u001b[0m                                Traceback (most recent call last)",
      "\u001b[0;32m<ipython-input-9-9564570d76b8>\u001b[0m in \u001b[0;36m<module>\u001b[0;34m()\u001b[0m\n\u001b[0;32m----> 1\u001b[0;31m \u001b[0mdata\u001b[0m \u001b[0;34m=\u001b[0m \u001b[0mnp\u001b[0m\u001b[0;34m.\u001b[0m\u001b[0mconcatenate\u001b[0m\u001b[0;34m(\u001b[0m\u001b[0;34m(\u001b[0m\u001b[0mdfpc\u001b[0m\u001b[0;34m,\u001b[0m \u001b[0mdopc\u001b[0m\u001b[0;34m,\u001b[0m \u001b[0mdvpc\u001b[0m\u001b[0;34m)\u001b[0m\u001b[0;34m)\u001b[0m\u001b[0;34m\u001b[0m\u001b[0m\n\u001b[0m\u001b[1;32m      2\u001b[0m \u001b[0mdata\u001b[0m\u001b[0;34m\u001b[0m\u001b[0m\n",
      "\u001b[0;31mValueError\u001b[0m: all the input array dimensions except for the concatenation axis must match exactly"
     ]
    }
   ],
   "source": [
    "data = np.concatenate((dfpc, dopc, dvpc))\n",
    "data"
   ]
  },
  {
   "cell_type": "code",
   "execution_count": 54,
   "metadata": {},
   "outputs": [],
   "source": [
    "one = []\n",
    "one.append((mean1, mean8, mean17))\n",
    "\n",
    "two = []\n",
    "two.append((mean1, mean9, mean18))\n",
    "\n",
    "three = []\n",
    "three.append((mean3, mean10, mean19))\n",
    "\n",
    "four = []\n",
    "four.append((mean4, mean11, mean20))\n",
    "\n",
    "five = []\n",
    "five.append((mean4, mean12, mean21))\n",
    "\n",
    "six = []\n",
    "six.append((mean5, mean13, mean22))\n",
    "\n",
    "seven = []\n",
    "seven.append((mean6, mean14, mean23))\n",
    "\n",
    "eight = []\n",
    "eight.append((mean7, mean15, mean24))\n",
    "\n",
    "nine = []\n",
    "nine.append((mean7, mean16, mean25))"
   ]
  },
  {
   "cell_type": "code",
   "execution_count": 55,
   "metadata": {},
   "outputs": [],
   "source": [
    "dataa = np.concatenate((one, two, three, four, five, six, seven, eight, nine))"
   ]
  },
  {
   "cell_type": "code",
   "execution_count": 62,
   "metadata": {},
   "outputs": [
    {
     "data": {
      "text/plain": [
       "{'boxes': [<matplotlib.lines.Line2D at 0x7f74db44f790>,\n",
       "  <matplotlib.lines.Line2D at 0x7f74db457ad0>,\n",
       "  <matplotlib.lines.Line2D at 0x7f74db46e1d0>,\n",
       "  <matplotlib.lines.Line2D at 0x7f74db47b890>,\n",
       "  <matplotlib.lines.Line2D at 0x7f74db406f50>,\n",
       "  <matplotlib.lines.Line2D at 0x7f74db41d690>,\n",
       "  <matplotlib.lines.Line2D at 0x7f74db429d50>,\n",
       "  <matplotlib.lines.Line2D at 0x7f74db3c3450>,\n",
       "  <matplotlib.lines.Line2D at 0x7f74db3ceb10>],\n",
       " 'caps': [<matplotlib.lines.Line2D at 0x7f74db44ffd0>,\n",
       "  <matplotlib.lines.Line2D at 0x7f74db457390>,\n",
       "  <matplotlib.lines.Line2D at 0x7f74db461650>,\n",
       "  <matplotlib.lines.Line2D at 0x7f74db461a10>,\n",
       "  <matplotlib.lines.Line2D at 0x7f74db46ed10>,\n",
       "  <matplotlib.lines.Line2D at 0x7f74db47b110>,\n",
       "  <matplotlib.lines.Line2D at 0x7f74db406410>,\n",
       "  <matplotlib.lines.Line2D at 0x7f74db4067d0>,\n",
       "  <matplotlib.lines.Line2D at 0x7f74f075a950>,\n",
       "  <matplotlib.lines.Line2D at 0x7f74db412ed0>,\n",
       "  <matplotlib.lines.Line2D at 0x7f74db429210>,\n",
       "  <matplotlib.lines.Line2D at 0x7f74db4295d0>,\n",
       "  <matplotlib.lines.Line2D at 0x7f74db4358d0>,\n",
       "  <matplotlib.lines.Line2D at 0x7f74db435c90>,\n",
       "  <matplotlib.lines.Line2D at 0x7f74db3c3f90>,\n",
       "  <matplotlib.lines.Line2D at 0x7f74db3ce390>,\n",
       "  <matplotlib.lines.Line2D at 0x7f74db3d9690>,\n",
       "  <matplotlib.lines.Line2D at 0x7f74db3d9a50>],\n",
       " 'fliers': [],\n",
       " 'means': [],\n",
       " 'medians': [<matplotlib.lines.Line2D at 0x7f74db457710>,\n",
       "  <matplotlib.lines.Line2D at 0x7f74db461dd0>,\n",
       "  <matplotlib.lines.Line2D at 0x7f74db47b4d0>,\n",
       "  <matplotlib.lines.Line2D at 0x7f74db406b90>,\n",
       "  <matplotlib.lines.Line2D at 0x7f74db41d2d0>,\n",
       "  <matplotlib.lines.Line2D at 0x7f74db429990>,\n",
       "  <matplotlib.lines.Line2D at 0x7f74db3c3090>,\n",
       "  <matplotlib.lines.Line2D at 0x7f74db3ce750>,\n",
       "  <matplotlib.lines.Line2D at 0x7f74db3d9e10>],\n",
       " 'whiskers': [<matplotlib.lines.Line2D at 0x7f74db44f850>,\n",
       "  <matplotlib.lines.Line2D at 0x7f74db44fc10>,\n",
       "  <matplotlib.lines.Line2D at 0x7f74db457e90>,\n",
       "  <matplotlib.lines.Line2D at 0x7f74db461290>,\n",
       "  <matplotlib.lines.Line2D at 0x7f74db46e590>,\n",
       "  <matplotlib.lines.Line2D at 0x7f74db46e950>,\n",
       "  <matplotlib.lines.Line2D at 0x7f74db47bc50>,\n",
       "  <matplotlib.lines.Line2D at 0x7f74db406050>,\n",
       "  <matplotlib.lines.Line2D at 0x7f74db412350>,\n",
       "  <matplotlib.lines.Line2D at 0x7f74db412710>,\n",
       "  <matplotlib.lines.Line2D at 0x7f74db41da50>,\n",
       "  <matplotlib.lines.Line2D at 0x7f74db41de10>,\n",
       "  <matplotlib.lines.Line2D at 0x7f74db435150>,\n",
       "  <matplotlib.lines.Line2D at 0x7f74db435510>,\n",
       "  <matplotlib.lines.Line2D at 0x7f74db3c3810>,\n",
       "  <matplotlib.lines.Line2D at 0x7f74db3c3bd0>,\n",
       "  <matplotlib.lines.Line2D at 0x7f74db3ceed0>,\n",
       "  <matplotlib.lines.Line2D at 0x7f74db3d92d0>]}"
      ]
     },
     "execution_count": 62,
     "metadata": {},
     "output_type": "execute_result"
    },
    {
     "data": {
      "image/png": "[encoded data removed]",
      "text/plain": [
       "<Figure size 432x288 with 1 Axes>"
      ]
     },
     "metadata": {
      "needs_background": "light"
     },
     "output_type": "display_data"
    }
   ],
   "source": [
    "fig1, ax1 = plt.subplots()\n",
    "ax1.set_title('test')\n",
    "ax1.boxplot(data, showfliers = False)"
   ]
  },
  {
   "cell_type": "code",
   "execution_count": 61,
   "metadata": {},
   "outputs": [
    {
     "data": {
      "text/plain": [
       "<matplotlib.axes._subplots.AxesSubplot at 0x7f74db5e7590>"
      ]
     },
     "execution_count": 61,
     "metadata": {},
     "output_type": "execute_result"
    },
    {
     "data": {
      "image/png": "[encoded data removed]",
      "text/plain": [
       "<Figure size 432x288 with 1 Axes>"
      ]
     },
     "metadata": {
      "needs_background": "light"
     },
     "output_type": "display_data"
    }
   ],
   "source": [
    "sns.boxplot(data=dataa, showfliers = False)"
   ]
  },
  {
   "cell_type": "code",
   "execution_count": 64,
   "metadata": {},
   "outputs": [
    {
     "name": "stdout",
     "output_type": "stream",
     "text": [
      "[(35.119293, 35.119293, 31.146101, 31.278418, 29.725508, 29.884663, 29.922606, 29.922606, 29.922606)]\n",
      "[(38.54551, 38.826458, 33.846046, 33.80227, 31.986378, 32.257378, 32.11578, 30.59513, 30.804432)]\n",
      "[(41.816753, 41.66891, 34.695484, 35.044323, 34.843468, 33.156464, 33.12427, 31.474575, 31.572884)]\n"
     ]
    }
   ],
   "source": [
    "print dfpc\n",
    "print dopc\n",
    "print dvpc"
   ]
  },
  {
   "cell_type": "code",
   "execution_count": 10,
   "metadata": {},
   "outputs": [],
   "source": [
    "dfpc = np.squeeze(dfpc)\n",
    "s = pd.Series(dfpc, name = 'DFPC')"
   ]
  },
  {
   "cell_type": "code",
   "execution_count": 11,
   "metadata": {},
   "outputs": [],
   "source": [
    "dopc = np.squeeze(dopc)\n",
    "t = pd.Series(dopc, name = 'DOPC')"
   ]
  },
  {
   "cell_type": "code",
   "execution_count": 12,
   "metadata": {},
   "outputs": [],
   "source": [
    "dvpc = np.squeeze(dvpc)\n",
    "v = pd.Series(dvpc, name = 'DVPC')"
   ]
  },
  {
   "cell_type": "code",
   "execution_count": 13,
   "metadata": {},
   "outputs": [],
   "source": [
    "d = {'DFPC': s, 'DOPC': t, 'DVPC': v}\n",
    "df = pd.DataFrame(d)"
   ]
  },
  {
   "cell_type": "code",
   "execution_count": 14,
   "metadata": {},
   "outputs": [
    {
     "data": {
      "text/html": [
       "<div>\n",
       "<style scoped>\n",
       "    .dataframe tbody tr th:only-of-type {\n",
       "        vertical-align: middle;\n",
       "    }\n",
       "\n",
       "    .dataframe tbody tr th {\n",
       "        vertical-align: top;\n",
       "    }\n",
       "\n",
       "    .dataframe thead th {\n",
       "        text-align: right;\n",
       "    }\n",
       "</style>\n",
       "<table border=\"1\" class=\"dataframe\">\n",
       "  <thead>\n",
       "    <tr style=\"text-align: right;\">\n",
       "      <th></th>\n",
       "      <th>DFPC</th>\n",
       "      <th>DOPC</th>\n",
       "      <th>DVPC</th>\n",
       "    </tr>\n",
       "  </thead>\n",
       "  <tbody>\n",
       "    <tr>\n",
       "      <th>0</th>\n",
       "      <td>35.119293</td>\n",
       "      <td>38.545509</td>\n",
       "      <td>41.816753</td>\n",
       "    </tr>\n",
       "    <tr>\n",
       "      <th>1</th>\n",
       "      <td>35.241188</td>\n",
       "      <td>38.826458</td>\n",
       "      <td>41.668911</td>\n",
       "    </tr>\n",
       "    <tr>\n",
       "      <th>2</th>\n",
       "      <td>31.146101</td>\n",
       "      <td>33.846046</td>\n",
       "      <td>34.695484</td>\n",
       "    </tr>\n",
       "    <tr>\n",
       "      <th>3</th>\n",
       "      <td>31.278418</td>\n",
       "      <td>33.802269</td>\n",
       "      <td>35.044323</td>\n",
       "    </tr>\n",
       "    <tr>\n",
       "      <th>4</th>\n",
       "      <td>29.725508</td>\n",
       "      <td>31.986378</td>\n",
       "      <td>34.843468</td>\n",
       "    </tr>\n",
       "    <tr>\n",
       "      <th>5</th>\n",
       "      <td>29.884663</td>\n",
       "      <td>32.257378</td>\n",
       "      <td>33.156464</td>\n",
       "    </tr>\n",
       "    <tr>\n",
       "      <th>6</th>\n",
       "      <td>29.922606</td>\n",
       "      <td>32.115780</td>\n",
       "      <td>33.124271</td>\n",
       "    </tr>\n",
       "    <tr>\n",
       "      <th>7</th>\n",
       "      <td>NaN</td>\n",
       "      <td>30.595131</td>\n",
       "      <td>31.474575</td>\n",
       "    </tr>\n",
       "    <tr>\n",
       "      <th>8</th>\n",
       "      <td>NaN</td>\n",
       "      <td>30.804432</td>\n",
       "      <td>31.572884</td>\n",
       "    </tr>\n",
       "  </tbody>\n",
       "</table>\n",
       "</div>"
      ],
      "text/plain": [
       "        DFPC       DOPC       DVPC\n",
       "0  35.119293  38.545509  41.816753\n",
       "1  35.241188  38.826458  41.668911\n",
       "2  31.146101  33.846046  34.695484\n",
       "3  31.278418  33.802269  35.044323\n",
       "4  29.725508  31.986378  34.843468\n",
       "5  29.884663  32.257378  33.156464\n",
       "6  29.922606  32.115780  33.124271\n",
       "7        NaN  30.595131  31.474575\n",
       "8        NaN  30.804432  31.572884"
      ]
     },
     "execution_count": 14,
     "metadata": {},
     "output_type": "execute_result"
    }
   ],
   "source": [
    "df"
   ]
  },
  {
   "cell_type": "code",
   "execution_count": 16,
   "metadata": {},
   "outputs": [
    {
     "name": "stderr",
     "output_type": "stream",
     "text": [
      "/sansom/s150/pemb4066/anaconda2/lib/python2.7/site-packages/scipy/stats/stats.py:1713: FutureWarning: Using a non-tuple sequence for multidimensional indexing is deprecated; use `arr[tuple(seq)]` instead of `arr[seq]`. In the future this will be interpreted as an array index, `arr[np.array(seq)]`, which will result either in an error or a different result.\n",
      "  return np.add.reduce(sorted[indexer] * weights, axis=axis) / sumval\n"
     ]
    },
    {
     "data": {
      "text/plain": [
       "Text(0,0.5,'Bilayer Thickness')"
      ]
     },
     "execution_count": 16,
     "metadata": {},
     "output_type": "execute_result"
    },
    {
     "data": {
      "image/png": "[encoded data removed]",
      "text/plain": [
       "<Figure size 432x288 with 1 Axes>"
      ]
     },
     "metadata": {
      "needs_background": "light"
     },
     "output_type": "display_data"
    }
   ],
   "source": [
    "sns.violinplot(data=df)\n",
    "plt.ylabel('Bilayer Thickness')"
   ]
  },
  {
   "cell_type": "code",
   "execution_count": 122,
   "metadata": {},
   "outputs": [],
   "source": [
    "d = {'16:1 $\\Delta$9-cis': s, '18:1 $\\Delta$9-cis': t, '20:1 $\\Delta$9-cis': v}\n",
    "df = pd.DataFrame(d)"
   ]
  },
  {
   "cell_type": "code",
   "execution_count": 123,
   "metadata": {},
   "outputs": [
    {
     "data": {
      "text/plain": [
       "Text(0.5,0,'Lipid Species')"
      ]
     },
     "execution_count": 123,
     "metadata": {},
     "output_type": "execute_result"
    },
    {
     "data": {
      "image/png": "[encoded data removed]",
      "text/plain": [
       "<Figure size 432x288 with 1 Axes>"
      ]
     },
     "metadata": {
      "needs_background": "light"
     },
     "output_type": "display_data"
    }
   ],
   "source": [
    "sns.boxplot(data=df, whis = 100)\n",
    "plt.ylabel('Bilayer Thickness')\n",
    "plt.xlabel('Lipid Species')\n"
   ]
  },
  {
   "cell_type": "code",
   "execution_count": null,
   "metadata": {},
   "outputs": [],
   "source": []
  },
  {
   "cell_type": "code",
   "execution_count": null,
   "metadata": {},
   "outputs": [],
   "source": []
  }
 ],
 "metadata": {
  "kernelspec": {
   "display_name": "Python 2",
   "language": "python",
   "name": "python2"
  },
  "language_info": {
   "codemirror_mode": {
    "name": "ipython",
    "version": 2
   },
   "file_extension": ".py",
   "mimetype": "text/x-python",
   "name": "python",
   "nbconvert_exporter": "python",
   "pygments_lexer": "ipython2",
   "version": "2.7.15"
  }
 },
 "nbformat": 4,
 "nbformat_minor": 2
}
